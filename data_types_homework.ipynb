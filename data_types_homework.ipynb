{
 "cells": [
  {
   "cell_type": "raw",
   "id": "34e62f92-9dc3-4dc4-855d-d312840d850d",
   "metadata": {},
   "source": [
    "from rich import print"
   ]
  },
  {
   "cell_type": "code",
   "execution_count": 1,
   "id": "66064bc7-586a-4d48-a55a-7f4e97730784",
   "metadata": {},
   "outputs": [],
   "source": [
    "from rich import print"
   ]
  },
  {
   "cell_type": "markdown",
   "id": "cd9cc6be-b497-403a-b44a-c2e96e39ac2d",
   "metadata": {},
   "source": [
    "# Exercise 1:\n",
    "#### Your software receives a message with data of clients that, for an unknown reason, is not in the needed format.\n",
    "#### The messages look like:\n",
    "\n",
    "    https://database.com/user/augustom,AugUSto Martin, 23, Approved,,\n",
    "    https://database.com/user/juliasch,JuLIA SchmidT, 67, rejected,,\n",
    "    https://database.com/user/kmarx,Karl Marx, 42, rejected,,\n",
    "\n",
    "#### However, your software needs to process messages like this:\n",
    "\n",
    "    message:  augustom,augustomartin,23,approved\n",
    "    message:  juliasch,juliaschmidt,67,rejected\n",
    "    message:  kmarx,karlmarx,42,rejected\n",
    "\n",
    "#### __Task__: Use `str` methods to correct the original message so you ALWAYS have messages compatible with your software.\n",
    "#### You explore the list of methods available in in `str` class [here](https://docs.python.org/3/library/stdtypes.html#textseq)"
   ]
  },
  {
   "cell_type": "code",
   "execution_count": 5,
   "id": "39ea1261-4617-484c-afd8-5d90b64e3f00",
   "metadata": {},
   "outputs": [
    {
     "name": "stdout",
     "output_type": "stream",
     "text": [
      "message=  augustom,AugUStoMartin,23,Approved\n"
     ]
    }
   ],
   "source": [
    "#https://database.com/user/augustom,AugUSto Martin, 23, Approved,,\n",
    "message_in1=\"https://database.com/user/augustom,AugUSto Martin, 23, Approved,,\"\n",
    "message_corrected1=(message_in1.removeprefix('https://database.com/user/').replace(\" \",\"\").removesuffix(',,'))\n",
    "print(f\"message=  {message_corrected1}\" )"
   ]
  },
  {
   "cell_type": "code",
   "execution_count": null,
   "id": "8230561b-b7c3-4197-90fa-a63866dc260b",
   "metadata": {},
   "outputs": [
    {
     "data": {
      "text/html": [
       "<pre style=\"white-space:pre;overflow-x:auto;line-height:normal;font-family:Menlo,'DejaVu Sans Mono',consolas,'Courier New',monospace\"><span style=\"color: #808000; text-decoration-color: #808000\">message</span>=  juliasch,JuLIA SchmidT, <span style=\"color: #008080; text-decoration-color: #008080; font-weight: bold\">67</span>, rejected\n",
       "</pre>\n"
      ],
      "text/plain": [
       "\u001b[33mmessage\u001b[0m=  juliasch,JuLIA SchmidT, \u001b[1;36m67\u001b[0m, rejected\n"
      ]
     },
     "metadata": {},
     "output_type": "display_data"
    }
   ],
   "source": [
    "#https://database.com/user/juliasch,JuLIA SchmidT, 67, rejected,,\n",
    "message_in2=\"https://database.com/user/juliasch,JuLIA SchmidT, 67, rejected,,\"\n",
    "message_corrected2=(message_in2.removeprefix('https://database.com/user/').replace(\" \",\"\").removesuffix(',,'))\n",
    "print(f\"message=  {message_corrected2}\" )"
   ]
  },
  {
   "cell_type": "code",
   "execution_count": 3,
   "id": "2633a2e7-61a1-40f0-bb39-f91d468f7d0a",
   "metadata": {},
   "outputs": [
    {
     "name": "stdout",
     "output_type": "stream",
     "text": [
      "message= kmarx,KarlMarx,42,rejected\n"
     ]
    }
   ],
   "source": [
    "#https://database.com/user/kmarx,Karl Marx, 42, rejected,,\n",
    "message_in3=\"https://database.com/user/kmarx,Karl Marx, 42, rejected,,\"\n",
    "message_corrected3=(message_in3.removeprefix('https://database.com/user/').replace(\" \",\"\").removesuffix(',,'))\n",
    "print(f\"message= {message_corrected3}\" )"
   ]
  },
  {
   "cell_type": "code",
   "execution_count": null,
   "id": "d6101b8d-829b-438e-8773-5c20b2cf1f67",
   "metadata": {},
   "outputs": [],
   "source": []
  },
  {
   "cell_type": "markdown",
   "id": "dad8f7c3-5e8c-47aa-bc32-29c3b8a34133",
   "metadata": {},
   "source": [
    "# Exercise 2:\n",
    "#### __Task__: Calculate the arclength of an angle\n",
    "#### Hint: Define an expression that will take the radius and angle as inputs\n",
    "#### __Expected result__:\n",
    "#### Diameter of circle: 9\n",
    "#### angle measure: 45\n",
    "#### Arc Length is:  3.5357142857142856"
   ]
  },
  {
   "cell_type": "code",
   "execution_count": 91,
   "id": "f83ad5f3-c697-43ec-b95b-70013237fbf0",
   "metadata": {},
   "outputs": [
    {
     "data": {
      "text/html": [
       "<pre style=\"white-space:pre;overflow-x:auto;line-height:normal;font-family:Menlo,'DejaVu Sans Mono',consolas,'Courier New',monospace\">Arc Length is: <span style=\"color: #008080; text-decoration-color: #008080; font-weight: bold\">3.5343000000000004</span>\n",
       "</pre>\n"
      ],
      "text/plain": [
       "Arc Length is: \u001b[1;36m3.5343000000000004\u001b[0m\n"
      ]
     },
     "metadata": {},
     "output_type": "display_data"
    }
   ],
   "source": [
    "dia= 9\n",
    "angle_measure = 45\n",
    "pi = 3.1416\n",
    "arc_length= angle_measure*(pi/180)*(dia/2)\n",
    "print(f\"Arc Length is: {arc_length}\")"
   ]
  }
 ],
 "metadata": {
  "kernelspec": {
   "display_name": "base",
   "language": "python",
   "name": "python3"
  },
  "language_info": {
   "codemirror_mode": {
    "name": "ipython",
    "version": 3
   },
   "file_extension": ".py",
   "mimetype": "text/x-python",
   "name": "python",
   "nbconvert_exporter": "python",
   "pygments_lexer": "ipython3",
   "version": "3.12.3"
  }
 },
 "nbformat": 4,
 "nbformat_minor": 5
}
