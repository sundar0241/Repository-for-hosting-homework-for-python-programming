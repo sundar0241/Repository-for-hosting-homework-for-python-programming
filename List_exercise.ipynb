{
 "cells": [
  {
   "cell_type": "markdown",
   "id": "d9eb96a1-bc27-44cc-85a5-6d5bb9399462",
   "metadata": {},
   "source": [
    "## Exercise\n"
   ]
  },
  {
   "cell_type": "code",
   "execution_count": 2,
   "id": "c510a265-d5c3-4ff2-a771-f4c846bd0479",
   "metadata": {},
   "outputs": [],
   "source": [
    "# 17 list comprehension problems in python\n",
    "\n",
    "fruits = ['mango', 'kiwi', 'strawberry', 'guava', 'pineapple', 'mandarin orange']\n",
    "\n",
    "numbers = [2, 3, 4, 5, 6, 7, 8, 9, 10, 11, 13, 17, 19, 23, 256, -8, -4, -2, 5, -9]\n",
    "\n",
    "# Example for loop solution to add 1 to each number in the list\n",
    "numbers_plus_one = []\n",
    "for number in numbers:\n",
    "    numbers_plus_one.append(number + 1)\n",
    "\n",
    "# Example of using a list comprehension to create a list of the numbers plus one.\n",
    "numbers_plus_one = [number + 1 for number in numbers] # so here number +1 is an expression which u want to collect in a list.\n",
    "\n",
    "# Example code that creates a list of all of the list of strings in fruits and uppercases every string\n",
    "output = []\n",
    "for fruit in fruits:\n",
    "    output.append(fruit.upper())"
   ]
  },
  {
   "cell_type": "markdown",
   "id": "f461a2bd-f1dc-4166-aaaa-3efeab791fcd",
   "metadata": {},
   "source": [
    "#### Exercise 1 - rewrite the above example code using list comprehension syntax. Make a variable named uppercased_fruits to hold the output of the list comprehension. Output should be ['MANGO', 'KIWI', etc...]"
   ]
  },
  {
   "cell_type": "code",
   "execution_count": 3,
   "id": "87f5a11c-d53b-4bf9-9026-0632aa187742",
   "metadata": {},
   "outputs": [
    {
     "name": "stdout",
     "output_type": "stream",
     "text": [
      "Using list comprehension:  ['MANGO', 'KIWI', 'STRAWBERRY', 'GUAVA', 'PINEAPPLE', 'MANDARIN ORANGE']\n"
     ]
    }
   ],
   "source": [
    "fruits = ['mango', 'kiwi', 'strawberry', 'guava', 'pineapple', 'mandarin orange']\n",
    "\n",
    "numbers = [2, 3, 4, 5, 6, 7, 8, 9, 10, 11, 13, 17, 19, 23, 256, -8, -4, -2, 5, -9]\n",
    "\n",
    "uppercased_fruits= [fruit.upper() for fruit in fruits]\n",
    "print('Using list comprehension: ',uppercased_fruits)"
   ]
  },
  {
   "cell_type": "markdown",
   "id": "74b48cfc-fc5c-49fd-a783-4634491e5a33",
   "metadata": {},
   "source": [
    "#### Exercise 2 - create a variable named capitalized_fruits and use list comprehension syntax to produce output like ['Mango', 'Kiwi', 'Strawberry', etc...]"
   ]
  },
  {
   "cell_type": "code",
   "execution_count": 4,
   "id": "11fe9de6-918a-4d48-a6c2-18c7c85ec906",
   "metadata": {},
   "outputs": [
    {
     "name": "stdout",
     "output_type": "stream",
     "text": [
      "Using list comprehension:  ['Mango', 'Kiwi', 'Strawberry', 'Guava', 'Pineapple', 'Mandarin orange']\n"
     ]
    }
   ],
   "source": [
    "fruits = ['mango', 'kiwi', 'strawberry', 'guava', 'pineapple', 'mandarin orange']\n",
    "capitalized_fruits= [fruit.capitalize() for fruit in fruits]\n",
    "print('Using list comprehension: ',capitalized_fruits)"
   ]
  },
  {
   "cell_type": "markdown",
   "id": "84355d7b-9ab7-4bd7-a946-863da233ec4d",
   "metadata": {},
   "source": [
    "#### Exercise 3 - Use a list comprehension to make a variable named fruits_with_more_than_two_vowels. Hint: You'll need a way to check if something is a vowel."
   ]
  },
  {
   "cell_type": "code",
   "execution_count": 5,
   "id": "0f9c396f-78f7-4546-b82f-2bd6ab27afc3",
   "metadata": {},
   "outputs": [
    {
     "name": "stdout",
     "output_type": "stream",
     "text": [
      "Using list comprehension:  ['guava', 'pineapple', 'mandarin orange']\n"
     ]
    }
   ],
   "source": [
    "fruits = ['mango', 'kiwi', 'strawberry', 'guava', 'pineapple', 'mandarin orange']\n",
    "fruits_with_more_than_two_vowels= [fruit for fruit in fruits  if sum(1 for letter in fruit if letter in 'aeiouAEIOU') >2 ]\n",
    "print('Using list comprehension: ',fruits_with_more_than_two_vowels)"
   ]
  },
  {
   "cell_type": "markdown",
   "id": "e50a7da5-e611-487c-bfa0-44fe9e26f1ef",
   "metadata": {},
   "source": [
    "#### Exercise 4 - make a variable named fruits_with_only_two_vowels. The result should be ['mango', 'kiwi', 'strawberry']"
   ]
  },
  {
   "cell_type": "code",
   "execution_count": 6,
   "id": "378e81d2-a483-49f5-8b15-a793d0e8263b",
   "metadata": {},
   "outputs": [
    {
     "name": "stdout",
     "output_type": "stream",
     "text": [
      "Using list comprehension:  ['mango', 'kiwi', 'strawberry']\n"
     ]
    }
   ],
   "source": [
    "fruits = ['mango', 'kiwi', 'strawberry', 'guava', 'pineapple', 'mandarin orange']\n",
    "fruits_with_only_two_vowels= [fruit for fruit in fruits  if sum(1 for letter in fruit if letter in 'aeiouAEIOU') ==2]\n",
    "print('Using list comprehension: ',fruits_with_only_two_vowels)"
   ]
  },
  {
   "cell_type": "markdown",
   "id": "42bb742c-4bd3-488d-83ed-154475072c82",
   "metadata": {},
   "source": [
    " #### Exercise 5 make a list that contains each fruit with more than 5 characters"
   ]
  },
  {
   "cell_type": "code",
   "execution_count": 7,
   "id": "8dffb09c-5936-4922-8ed2-a5e3097cd255",
   "metadata": {},
   "outputs": [
    {
     "name": "stdout",
     "output_type": "stream",
     "text": [
      "Using list comprehension:  ['strawberry', 'pineapple', 'mandarin orange']\n"
     ]
    }
   ],
   "source": [
    "fruits = ['mango', 'kiwi', 'strawberry', 'guava', 'pineapple', 'mandarin orange']\n",
    "fruits_with_more_than_five_characters= [fruit for fruit in fruits if len(fruit) > 5 ]\n",
    "print('Using list comprehension: ',fruits_with_more_than_five_characters)\n"
   ]
  },
  {
   "cell_type": "markdown",
   "id": "1e535488-72c2-4150-97f3-e466b3ec7c66",
   "metadata": {},
   "source": [
    "#### Exercise 6 - make a list that contains each fruit with exactly 5 characters"
   ]
  },
  {
   "cell_type": "code",
   "execution_count": 8,
   "id": "606e3db7-96da-4b53-afe8-36b38142d128",
   "metadata": {},
   "outputs": [
    {
     "name": "stdout",
     "output_type": "stream",
     "text": [
      "Using list comprehension:  ['mango', 'guava']\n"
     ]
    }
   ],
   "source": [
    "fruits = ['mango', 'kiwi', 'strawberry', 'guava', 'pineapple', 'mandarin orange']\n",
    "fruits_with_only_five_characters= [fruit for fruit in fruits if len(fruit) == 5 ]\n",
    "print('Using list comprehension: ',fruits_with_only_five_characters)"
   ]
  },
  {
   "cell_type": "markdown",
   "id": "5ee4e0ef-0e88-406a-b8d3-81272644bd9f",
   "metadata": {},
   "source": [
    "#### Exercise 7 - Make a list that contains fruits that have less than 5 characters"
   ]
  },
  {
   "cell_type": "code",
   "execution_count": 9,
   "id": "648df64d-5b85-4cb1-ad6f-8044b614a105",
   "metadata": {},
   "outputs": [
    {
     "name": "stdout",
     "output_type": "stream",
     "text": [
      "Using list comprehension:  ['kiwi']\n"
     ]
    }
   ],
   "source": [
    "fruits = ['mango', 'kiwi', 'strawberry', 'guava', 'pineapple', 'mandarin orange']\n",
    "fruits_with_only_five_characters= [fruit for fruit in fruits if len(fruit) < 5 ]\n",
    "print('Using list comprehension: ',fruits_with_only_five_characters)"
   ]
  },
  {
   "cell_type": "markdown",
   "id": "ec550e83-071a-4f09-9971-c62ac104c897",
   "metadata": {},
   "source": [
    "#### Exercise 8 - Make a list containing the number of characters in each fruit. Output would be [5, 4, 10, etc... ]"
   ]
  },
  {
   "cell_type": "code",
   "execution_count": 10,
   "id": "4c4a8dd0-1e98-42e3-8266-e4d9e5d1d638",
   "metadata": {},
   "outputs": [
    {
     "name": "stdout",
     "output_type": "stream",
     "text": [
      "Using list comprehension:  [5, 4, 10, 5, 9, 15]\n"
     ]
    }
   ],
   "source": [
    "fruits = ['mango', 'kiwi', 'strawberry', 'guava', 'pineapple', 'mandarin orange']\n",
    "number_of_characters= [len(fruit) for fruit in fruits]\n",
    "print('Using list comprehension: ',number_of_characters)"
   ]
  },
  {
   "cell_type": "markdown",
   "id": "4dda1b27-0b7a-4c9b-bc8b-24656da0fe48",
   "metadata": {},
   "source": [
    "#### Exercise 9 - Make a variable named fruits_with_letter_a that contains a list of only the fruits that contain the letter \"a\""
   ]
  },
  {
   "cell_type": "code",
   "execution_count": 11,
   "id": "de704586-2df0-4aac-809f-1670c0868f2e",
   "metadata": {},
   "outputs": [
    {
     "name": "stdout",
     "output_type": "stream",
     "text": [
      "Using list comprehension:  ['mango', 'strawberry', 'guava', 'guava', 'pineapple', 'mandarin orange', 'mandarin orange', 'mandarin orange']\n"
     ]
    }
   ],
   "source": [
    "fruits = ['mango', 'kiwi', 'strawberry', 'guava', 'pineapple', 'mandarin orange']\n",
    "fruits_with_letter_a= [fruit for fruit in fruits for letter in fruit if letter in 'aA']\n",
    "print('Using list comprehension: ',fruits_with_letter_a)"
   ]
  },
  {
   "cell_type": "markdown",
   "id": "3a37d261-b357-464b-a557-854298d6bc8a",
   "metadata": {},
   "source": [
    "#### Exercise 10 - Make a variable named even_numbers that holds only the even numbers"
   ]
  },
  {
   "cell_type": "code",
   "execution_count": 12,
   "id": "346d6b4f-3cb8-44f8-9578-8ac8d9bc1aaa",
   "metadata": {},
   "outputs": [
    {
     "name": "stdout",
     "output_type": "stream",
     "text": [
      "Using list comprehension:  [2, 4, 6, 8, 10, 256, -8, -4, -2]\n"
     ]
    }
   ],
   "source": [
    "numbers = [2, 3, 4, 5, 6, 7, 8, 9, 10, 11, 13, 17, 19, 23, 256, -8, -4, -2, 5, -9]\n",
    "even_numbers=[evn_num for evn_num in numbers if evn_num%2==0  ]\n",
    "print('Using list comprehension: ',even_numbers)"
   ]
  },
  {
   "cell_type": "markdown",
   "id": "d981691a-9a62-4caf-99b3-508555e36a38",
   "metadata": {},
   "source": [
    "#### Exercise 11 - Make a variable named odd_numbers that holds only the odd numbers"
   ]
  },
  {
   "cell_type": "code",
   "execution_count": 13,
   "id": "1d971d6a-c9aa-499b-93ce-75762cb8ac46",
   "metadata": {},
   "outputs": [
    {
     "name": "stdout",
     "output_type": "stream",
     "text": [
      "Using list comprehension:  [3, 5, 7, 9, 11, 13, 17, 19, 23, 5, -9]\n"
     ]
    }
   ],
   "source": [
    "numbers = [2, 3, 4, 5, 6, 7, 8, 9, 10, 11, 13, 17, 19, 23, 256, -8, -4, -2, 5, -9]\n",
    "odd_numbers=[odd_num for odd_num in numbers if odd_num%2!=0  ]\n",
    "print('Using list comprehension: ',odd_numbers)"
   ]
  },
  {
   "cell_type": "markdown",
   "id": "0ec517f8-d935-4b1b-829d-203d4c36db19",
   "metadata": {},
   "source": [
    "#### Exercise 12 - Make a variable named positive_numbers that holds only the positive numbers"
   ]
  },
  {
   "cell_type": "code",
   "execution_count": 14,
   "id": "fe500834-c4ee-4da9-b6e6-9d38238a6593",
   "metadata": {},
   "outputs": [
    {
     "name": "stdout",
     "output_type": "stream",
     "text": [
      "Using list comprehension:  [-8, -4, -2, -9]\n"
     ]
    }
   ],
   "source": [
    "numbers = [2, 3, 4, 5, 6, 7, 8, 9, 10, 11, 13, 17, 19, 23, 256, -8, -4, -2, 5, -9]\n",
    "positive_numbers=[pos_num for pos_num in numbers if pos_num<0  ]\n",
    "print('Using list comprehension: ',positive_numbers)\n"
   ]
  },
  {
   "cell_type": "markdown",
   "id": "594dbb92-2a7e-4ae1-ad8b-81b421f90974",
   "metadata": {},
   "source": [
    "#### Exercise 13 - Make a variable named negative_numbers that holds only the negative numbers"
   ]
  },
  {
   "cell_type": "code",
   "execution_count": 15,
   "id": "1b189747-5d94-4b91-b8af-007d903d94ac",
   "metadata": {},
   "outputs": [
    {
     "name": "stdout",
     "output_type": "stream",
     "text": [
      "Using list comprehension:  [-8, -4, -2, -9]\n"
     ]
    }
   ],
   "source": [
    "numbers = [2, 3, 4, 5, 6, 7, 8, 9, 10, 11, 13, 17, 19, 23, 256, -8, -4, -2, 5, -9]\n",
    "negative_numbers=[neg_num for neg_num in numbers if neg_num<0  ]\n",
    "print('Using list comprehension: ',negative_numbers)\n"
   ]
  }
 ],
 "metadata": {
  "kernelspec": {
   "display_name": "mit",
   "language": "python",
   "name": "python3"
  },
  "language_info": {
   "codemirror_mode": {
    "name": "ipython",
    "version": 3
   },
   "file_extension": ".py",
   "mimetype": "text/x-python",
   "name": "python",
   "nbconvert_exporter": "python",
   "pygments_lexer": "ipython3",
   "version": "3.13.2"
  }
 },
 "nbformat": 4,
 "nbformat_minor": 5
}
