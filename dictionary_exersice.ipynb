{
 "cells": [
  {
   "cell_type": "markdown",
   "id": "59859e8f-14a6-430d-8c15-fd48280a5720",
   "metadata": {},
   "source": [
    "## Homework\n",
    "\n",
    "You are given a list of dictionaries, where each dictionary represents a student and contains their name and a list of grades. Write a Python function that:\n",
    "\n",
    "* Iterates through the list of dictionaries.\n",
    "* For each student, calculates their average grade.\n",
    "* It sorts the grade.\n",
    "* Adds a new key to the dictionary named 'average' that stores their average grade.\n",
    "* Returns a list of dictionaries with the students' names and their average grades.\n",
    "\n",
    "Input\n",
    "```\n",
    "students = [\n",
    "    {'name': 'Alice', 'grades': [90, 85, 92]},\n",
    "    {'name': 'Bob', 'grades': [70, 88, 80]},\n",
    "    {'name': 'Charlie', 'grades': [95, 93, 97]}\n",
    "]\n",
    "```\n",
    "Output\n",
    "```\n",
    "[\n",
    "    {'name': 'Alice', 'grades': [85, 90, 92], 'average': 89.0},\n",
    "    {'name': 'Bob', 'grades': [70, 80, 88], 'average': 79.33},\n",
    "    {'name': 'Charlie', 'grades': [97, 95, 93], 'average': 95.0}\n",
    "]\n",
    "```"
   ]
  },
  {
   "cell_type": "code",
   "execution_count": 36,
   "id": "965815ef-d73e-433f-95d7-dd41314b029f",
   "metadata": {},
   "outputs": [],
   "source": [
    "\n",
    "def student_function(students):\n",
    "    for student in students: #Iterates through the list of dictionaries.\n",
    "        avg = sum (student[\"grades\"])/len(student[\"grades\"]) #For each student, calculates their average grade.\n",
    "        student[\"grades\"].sort() #It sorts the grade.\n",
    "        student[\"average\"] = round(avg, 2) # Adds a new key to the dictionary named 'average' that stores their average grade.\n",
    "    return students #Returns a list of dictionaries with the students' names and their average grades.\n"
   ]
  },
  {
   "cell_type": "code",
   "execution_count": 37,
   "id": "8966a4dd-5afe-4793-bfb4-b0521a8e0cfe",
   "metadata": {},
   "outputs": [
    {
     "name": "stdout",
     "output_type": "stream",
     "text": [
      "[{'name': 'Alice', 'grades': [85, 90, 92], 'average': 89.0}, {'name': 'Bob', 'grades': [70, 80, 88], 'average': 79.33}, {'name': 'Charlie', 'grades': [93, 95, 97], 'average': 95.0}]\n"
     ]
    }
   ],
   "source": [
    "students = [\n",
    "    {'name': 'Alice', 'grades': [90, 85, 92]},\n",
    "    {'name': 'Bob', 'grades': [70, 88, 80]},\n",
    "    {'name': 'Charlie', 'grades': [95, 93, 97]}\n",
    "]\n",
    "result = student_function(students)\n",
    "print(result)\n"
   ]
  },
  {
   "cell_type": "code",
   "execution_count": null,
   "id": "35876f48-7794-4181-97a8-d5428696dc00",
   "metadata": {},
   "outputs": [],
   "source": []
  }
 ],
 "metadata": {
  "kernelspec": {
   "display_name": "Python 3 (ipykernel)",
   "language": "python",
   "name": "python3"
  },
  "language_info": {
   "codemirror_mode": {
    "name": "ipython",
    "version": 3
   },
   "file_extension": ".py",
   "mimetype": "text/x-python",
   "name": "python",
   "nbconvert_exporter": "python",
   "pygments_lexer": "ipython3",
   "version": "3.13.2"
  }
 },
 "nbformat": 4,
 "nbformat_minor": 5
}
